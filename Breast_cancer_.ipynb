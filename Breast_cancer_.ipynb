{
 "cells": [
  {
   "cell_type": "code",
   "execution_count": 1,
   "metadata": {},
   "outputs": [],
   "source": [
    "from sklearn.datasets import load_breast_cancer\n",
    "import numpy as np\n",
    "import matplotlib.pyplot as plt\n",
    "import pandas as pd\n",
    "import seaborn as sb"
   ]
  },
  {
   "cell_type": "code",
   "execution_count": 2,
   "metadata": {},
   "outputs": [],
   "source": [
    "data_bc=load_breast_cancer()"
   ]
  },
  {
   "cell_type": "code",
   "execution_count": 3,
   "metadata": {},
   "outputs": [],
   "source": [
    "X=pd.DataFrame(data_bc['data'], columns=data_bc['feature_names'])\n",
    "Y=pd.DataFrame(data_bc['target'])"
   ]
  },
  {
   "cell_type": "code",
   "execution_count": 4,
   "metadata": {},
   "outputs": [],
   "source": [
    "X=X.values\n",
    "Y=Y.values\n"
   ]
  },
  {
   "cell_type": "code",
   "execution_count": 5,
   "metadata": {},
   "outputs": [],
   "source": [
    "from sklearn.preprocessing import StandardScaler\n",
    "ss=StandardScaler()\n",
    "from sklearn.model_selection import train_test_split\n",
    "x_train, x_test, y_train, y_test=train_test_split(X,Y, test_size=0.3)\n",
    "x_train=ss.fit_transform(x_train)\n",
    "x_test=ss.fit_transform(x_test)"
   ]
  },
  {
   "cell_type": "code",
   "execution_count": null,
   "metadata": {},
   "outputs": [],
   "source": []
  },
  {
   "cell_type": "code",
   "execution_count": 6,
   "metadata": {},
   "outputs": [],
   "source": [
    "def refine_Y(Y):\n",
    "    Y=np.array(Y)\n",
    "    Y=np.reshape(Y,(len(Y),1))\n",
    "    y_zero=np.zeros((2,len(Y)))\n",
    "    for i in range(len(Y)):\n",
    "        c=Y[i][0]\n",
    "        y_zero[c][i]=1\n",
    "    return y_zero"
   ]
  },
  {
   "cell_type": "code",
   "execution_count": 7,
   "metadata": {},
   "outputs": [],
   "source": [
    "def parameter_initialize():\n",
    "    a=np.random.rand(2,30)*0.01\n",
    "    b=np.random.rand(2,1)\n",
    "    return a,b"
   ]
  },
  {
   "cell_type": "code",
   "execution_count": 8,
   "metadata": {},
   "outputs": [],
   "source": [
    "def Z(X,a,b):\n",
    "    z=np.dot(X,a.T).T+b\n",
    "    return z.T"
   ]
  },
  {
   "cell_type": "code",
   "execution_count": 9,
   "metadata": {},
   "outputs": [],
   "source": [
    "def sigmoid(z):\n",
    "    a=1/(1+np.exp(-z))\n",
    "    return a"
   ]
  },
  {
   "cell_type": "code",
   "execution_count": 10,
   "metadata": {},
   "outputs": [],
   "source": [
    "def foward(X,theta,b):\n",
    "    z=Z(X,theta,b)\n",
    "    a=sigmoid(z)\n",
    "    return a.T"
   ]
  },
  {
   "cell_type": "code",
   "execution_count": 11,
   "metadata": {},
   "outputs": [],
   "source": [
    "def cost(y_pred, y_ref):\n",
    "    error=-(y_ref*np.log(y_pred)+(1-y_ref)*np.log(1-y_pred))\n",
    "    \n",
    "    return np.sum(error)/y_ref.shape[0]"
   ]
  },
  {
   "cell_type": "code",
   "execution_count": 12,
   "metadata": {},
   "outputs": [],
   "source": [
    "def Dee_Z(y_pred,Y):\n",
    "    dee_z=y_pred-Y\n",
    "    return dee_z"
   ]
  },
  {
   "cell_type": "code",
   "execution_count": 13,
   "metadata": {},
   "outputs": [],
   "source": [
    "def Dee_parameter(X,dz):\n",
    "    dee_theta=np.dot(dz,X)/X.shape[0]\n",
    "    dee_b=np.sum(dz, axis=1)/X.shape[0]\n",
    "    dee_b=np.reshape(dee_b,(dz.shape[0],1))\n",
    "    return dee_theta.T, dee_b\n",
    "    "
   ]
  },
  {
   "cell_type": "code",
   "execution_count": 14,
   "metadata": {},
   "outputs": [],
   "source": [
    "def back(X,Y,y_pred):\n",
    "    dz=Dee_Z(y_pred,Y)\n",
    "    dee_theta, dee_b=Dee_parameter(X,dz)\n",
    "    return dee_theta, dee_b"
   ]
  },
  {
   "cell_type": "code",
   "execution_count": 15,
   "metadata": {},
   "outputs": [],
   "source": [
    "def update(theta, b,dee_theta, dee_b, learning_rate):\n",
    "    #print(theta.shape, dee_theta.shape)\n",
    "    #print(dee_theta.shape, dee_b.shape)\n",
    "    theta=theta-learning_rate*dee_theta.T\n",
    "    b=b-learning_rate*dee_b\n",
    "    #print(dee_theta.shape, dee_b.shape)\n",
    "    return theta,b"
   ]
  },
  {
   "cell_type": "code",
   "execution_count": 38,
   "metadata": {},
   "outputs": [],
   "source": [
    "import matplotlib.pyplot as plt\n",
    "def Logistic(X,Y):\n",
    "    Y=refine_Y(Y)\n",
    "    J,x=[],[]\n",
    "    theta, b=parameter_initialize()\n",
    "    for i in range(500):\n",
    "        y_pred=foward(X,theta,b)\n",
    "        error=cost(y_pred,Y)\n",
    "        x.append(i)\n",
    "        J.append(error)\n",
    "        dee_theta, dee_b=back(X,Y,y_pred)\n",
    "        theta,b=update(theta, b,dee_theta, dee_b, 0.1)\n",
    "        #print(error)\n",
    "        plt.plot(x,J)\n",
    "    return theta,b\n",
    "    "
   ]
  },
  {
   "cell_type": "code",
   "execution_count": 39,
   "metadata": {},
   "outputs": [
    {
     "name": "stderr",
     "output_type": "stream",
     "text": [
      "<ipython-input-11-64c5560b3811>:2: RuntimeWarning: divide by zero encountered in log\n",
      "  error=-(y_ref*np.log(y_pred)+(1-y_ref)*np.log(1-y_pred))\n",
      "<ipython-input-11-64c5560b3811>:2: RuntimeWarning: invalid value encountered in multiply\n",
      "  error=-(y_ref*np.log(y_pred)+(1-y_ref)*np.log(1-y_pred))\n"
     ]
    },
    {
     "data": {
      "image/png": "[encoded data removed]",
      "text/plain": [
       "<Figure size 432x288 with 1 Axes>"
      ]
     },
     "metadata": {
      "needs_background": "light"
     },
     "output_type": "display_data"
    }
   ],
   "source": [
    "theta,b=Logistic(x_train,y_train)"
   ]
  },
  {
   "cell_type": "code",
   "execution_count": 28,
   "metadata": {},
   "outputs": [],
   "source": [
    "def predict(X,theta,b):\n",
    "    y_pred=foward(X,theta,b)\n",
    "    y_pred=y_pred.T\n",
    "    return y_pred.argmax(axis=1)"
   ]
  },
  {
   "cell_type": "code",
   "execution_count": 29,
   "metadata": {},
   "outputs": [],
   "source": [
    "pred=predict(x_train,theta,b)"
   ]
  },
  {
   "cell_type": "code",
   "execution_count": 30,
   "metadata": {},
   "outputs": [
    {
     "data": {
      "text/plain": [
       "<matplotlib.axes._subplots.AxesSubplot at 0xdef79dd760>"
      ]
     },
     "execution_count": 30,
     "metadata": {},
     "output_type": "execute_result"
    },
    {
     "data": {
      "image/png": "[encoded data removed]",
      "text/plain": [
       "<Figure size 432x288 with 1 Axes>"
      ]
     },
     "metadata": {
      "needs_background": "light"
     },
     "output_type": "display_data"
    }
   ],
   "source": [
    "sb.countplot(x=0, data=pd.DataFrame(pred))"
   ]
  },
  {
   "cell_type": "code",
   "execution_count": 31,
   "metadata": {},
   "outputs": [
    {
     "data": {
      "text/plain": [
       "<matplotlib.axes._subplots.AxesSubplot at 0xdef795fe50>"
      ]
     },
     "execution_count": 31,
     "metadata": {},
     "output_type": "execute_result"
    },
    {
     "data": {
      "image/png": "[encoded data removed]",
      "text/plain": [
       "<Figure size 432x288 with 1 Axes>"
      ]
     },
     "metadata": {
      "needs_background": "light"
     },
     "output_type": "display_data"
    }
   ],
   "source": [
    "sb.countplot(x=0, data=pd.DataFrame(y_train))"
   ]
  },
  {
   "cell_type": "code",
   "execution_count": 32,
   "metadata": {},
   "outputs": [
    {
     "data": {
      "text/plain": [
       "0.9874371859296482"
      ]
     },
     "execution_count": 32,
     "metadata": {},
     "output_type": "execute_result"
    }
   ],
   "source": [
    "from sklearn.metrics import accuracy_score, confusion_matrix\n",
    "accuracy_score(y_train, pred)"
   ]
  },
  {
   "cell_type": "code",
   "execution_count": 33,
   "metadata": {},
   "outputs": [
    {
     "data": {
      "text/plain": [
       "array([[142,   3],\n",
       "       [  2, 251]], dtype=int64)"
      ]
     },
     "execution_count": 33,
     "metadata": {},
     "output_type": "execute_result"
    }
   ],
   "source": [
    "confusion_matrix(y_train,pred)"
   ]
  },
  {
   "cell_type": "code",
   "execution_count": 34,
   "metadata": {},
   "outputs": [],
   "source": [
    "test=predict(x_test,theta,b)"
   ]
  },
  {
   "cell_type": "code",
   "execution_count": 36,
   "metadata": {},
   "outputs": [
    {
     "data": {
      "text/plain": [
       "0.9649122807017544"
      ]
     },
     "execution_count": 36,
     "metadata": {},
     "output_type": "execute_result"
    }
   ],
   "source": [
    "confusion_matrix(y_test,test)\n",
    "accuracy_score(y_test, test)"
   ]
  },
  {
   "cell_type": "code",
   "execution_count": null,
   "metadata": {},
   "outputs": [],
   "source": []
  }
 ],
 "metadata": {
  "kernelspec": {
   "display_name": "Python 3",
   "language": "python",
   "name": "python3"
  }
 },
 "nbformat": 4,
 "nbformat_minor": 4
}
