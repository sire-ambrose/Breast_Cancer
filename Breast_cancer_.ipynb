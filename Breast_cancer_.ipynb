{
 "cells": [
  {
   "cell_type": "code",
   "execution_count": 1,
   "metadata": {},
   "outputs": [],
   "source": [
    "from sklearn.datasets import load_breast_cancer\n",
    "import numpy as np\n",
    "import matplotlib.pyplot as plt\n",
    "import pandas as pd\n",
    "import seaborn as sb"
   ]
  },
  {
   "cell_type": "code",
   "execution_count": 2,
   "metadata": {},
   "outputs": [],
   "source": [
    "data_bc=load_breast_cancer()"
   ]
  },
  {
   "cell_type": "code",
   "execution_count": 3,
   "metadata": {},
   "outputs": [],
   "source": [
    "X=pd.DataFrame(data_bc['data'], columns=data_bc['feature_names'])\n",
    "Y=pd.DataFrame(data_bc['target'])"
   ]
  },
  {
   "cell_type": "code",
   "execution_count": 4,
   "metadata": {},
   "outputs": [],
   "source": [
    "X=X.values\n",
    "Y=Y.values\n"
   ]
  },
  {
   "cell_type": "code",
   "execution_count": 5,
   "metadata": {},
   "outputs": [],
   "source": [
    "from sklearn.preprocessing import StandardScaler\n",
    "ss=StandardScaler()\n",
    "from sklearn.model_selection import train_test_split\n",
    "x_train, x_test, y_train, y_test=train_test_split(X,Y, test_size=0.3)\n",
    "x_train=ss.fit_transform(x_train)\n",
    "x_test=ss.fit_transform(x_test)"
   ]
  },
  {
   "cell_type": "code",
   "execution_count": null,
   "metadata": {},
   "outputs": [],
   "source": []
  },
  {
   "cell_type": "code",
   "execution_count": 6,
   "metadata": {},
   "outputs": [],
   "source": [
    "def refine_Y(Y):\n",
    "    Y=np.array(Y)\n",
    "    Y=np.reshape(Y,(len(Y),1))\n",
    "    y_zero=np.zeros((2,len(Y)))\n",
    "    for i in range(len(Y)):\n",
    "        c=Y[i][0]\n",
    "        y_zero[c][i]=1\n",
    "    return y_zero"
   ]
  },
  {
   "cell_type": "code",
   "execution_count": 7,
   "metadata": {},
   "outputs": [],
   "source": [
    "def parameter_initialize():\n",
    "    a=np.random.rand(2,30)*0.01\n",
    "    b=np.random.rand(2,1)\n",
    "    return a,b"
   ]
  },
  {
   "cell_type": "code",
   "execution_count": 8,
   "metadata": {},
   "outputs": [],
   "source": [
    "def Z(X,a,b):\n",
    "    z=np.dot(X,a.T).T+b\n",
    "    return z.T"
   ]
  },
  {
   "cell_type": "code",
   "execution_count": 9,
   "metadata": {},
   "outputs": [],
   "source": [
    "def sigmoid(z):\n",
    "    a=1/(1+np.exp(-z))\n",
    "    return a"
   ]
  },
  {
   "cell_type": "code",
   "execution_count": 10,
   "metadata": {},
   "outputs": [],
   "source": [
    "def foward(X,theta,b):\n",
    "    z=Z(X,theta,b)\n",
    "    a=sigmoid(z)\n",
    "    return a.T"
   ]
  },
  {
   "cell_type": "code",
   "execution_count": 11,
   "metadata": {},
   "outputs": [],
   "source": [
    "def cost(y_pred, y_ref):\n",
    "    error=-(y_ref*np.log(y_pred)+(1-y_ref)*np.log(1-y_pred))\n",
    "    \n",
    "    return np.sum(error)/y_ref.shape[0]"
   ]
  },
  {
   "cell_type": "code",
   "execution_count": 12,
   "metadata": {},
   "outputs": [],
   "source": [
    "def Dee_Z(y_pred,Y):\n",
    "    dee_z=y_pred-Y\n",
    "    return dee_z"
   ]
  },
  {
   "cell_type": "code",
   "execution_count": 13,
   "metadata": {},
   "outputs": [],
   "source": [
    "def Dee_parameter(X,dz):\n",
    "    dee_theta=np.dot(dz,X)/X.shape[0]\n",
    "    dee_b=np.sum(dz, axis=1)/X.shape[0]\n",
    "    dee_b=np.reshape(dee_b,(dz.shape[0],1))\n",
    "    return dee_theta.T, dee_b\n",
    "    "
   ]
  },
  {
   "cell_type": "code",
   "execution_count": 14,
   "metadata": {},
   "outputs": [],
   "source": [
    "def back(X,Y,y_pred):\n",
    "    dz=Dee_Z(y_pred,Y)\n",
    "    dee_theta, dee_b=Dee_parameter(X,dz)\n",
    "    return dee_theta, dee_b"
   ]
  },
  {
   "cell_type": "code",
   "execution_count": 15,
   "metadata": {},
   "outputs": [],
   "source": [
    "def update(theta, b,dee_theta, dee_b, learning_rate):\n",
    "    #print(theta.shape, dee_theta.shape)\n",
    "    #print(dee_theta.shape, dee_b.shape)\n",
    "    theta=theta-learning_rate*dee_theta.T\n",
    "    b=b-learning_rate*dee_b\n",
    "    #print(dee_theta.shape, dee_b.shape)\n",
    "    return theta,b"
   ]
  },
  {
   "cell_type": "code",
   "execution_count": 26,
   "metadata": {},
   "outputs": [],
   "source": [
    "import matplotlib.pyplot as plt\n",
    "def Logistic(X,Y):\n",
    "    Y=refine_Y(Y)\n",
    "    J,x=[],[]\n",
    "    theta, b=parameter_initialize()\n",
    "    for i in range(500):\n",
    "        y_pred=foward(X,theta,b)\n",
    "        error=cost(y_pred,Y)\n",
    "        x.append(i)\n",
    "        J.append(error)\n",
    "        dee_theta, dee_b=back(X,Y,y_pred)\n",
    "        theta,b=update(theta, b,dee_theta, dee_b, 0.1)\n",
    "        print(error)\n",
    "        plt.plot(x,J)\n",
    "    return theta,b\n",
    "    "
   ]
  },
  {
   "cell_type": "code",
   "execution_count": 27,
   "metadata": {},
   "outputs": [
    {
     "name": "stdout",
     "output_type": "stream",
     "text": [
      "302.9552381906414\n",
      "233.50401983719019\n",
      "194.6899161829175\n",
      "170.12957206319697\n",
      "152.99967691735873\n",
      "140.25241377884174\n",
      "130.32165160960804\n",
      "122.31636268241346\n",
      "115.69073365258474\n",
      "110.09106005428555\n",
      "105.27767040323296\n",
      "101.0821365056764\n",
      "97.38244131607418\n",
      "94.08787702532817\n",
      "91.1294933277672\n",
      "88.45385092005031\n",
      "86.01881711172398\n",
      "83.79066401239885\n",
      "81.74202110792295\n",
      "79.85040224560814\n",
      "78.09712735423922\n",
      "76.46652077907773\n",
      "74.9453068698603\n",
      "73.52214843914611\n",
      "72.18729015510873\n",
      "70.93227997735221\n",
      "69.74974929765574\n",
      "68.63323770078084\n",
      "67.5770519702017\n",
      "66.57615161926998\n",
      "65.62605515219863\n",
      "64.72276266738804\n",
      "63.86269145541154\n",
      "63.04262201767668\n",
      "62.25965251143455\n",
      "61.51116006386731\n",
      "60.79476772959249\n",
      "60.10831611913464\n",
      "59.449838920558236\n",
      "58.817541687138814\n",
      "58.20978338146982\n",
      "57.625060258770844\n",
      "57.0619917453407\n",
      "56.51930802653597\n",
      "55.99583910569122\n",
      "55.490505133545284\n",
      "55.00230783890386\n",
      "54.530322916906194\n",
      "54.07369325248769\n",
      "53.63162287430461\n",
      "53.20337154918417\n",
      "52.78824993961403\n",
      "52.38561525730634\n",
      "51.994867354800405\n",
      "51.61544520467274\n",
      "51.246823722422185\n",
      "50.888510894669864\n",
      "50.54004517910382\n",
      "50.20099314672848\n",
      "49.87094734054803\n",
      "49.54952432790502\n",
      "49.23636292638042\n",
      "48.93112258549707\n",
      "48.63348190850526\n",
      "48.34313730030867\n",
      "48.0598017291457\n",
      "47.78320359100692\n",
      "47.51308566696874\n",
      "47.2492041646784\n",
      "46.991327836155634\n",
      "46.739237164897474\n",
      "46.49272361599829\n",
      "46.251588943640186\n",
      "46.0156445508792\n",
      "45.784710897158476\n",
      "45.55861694943094\n",
      "45.33719967317435\n",
      "45.120303559939956\n",
      "44.90778018839569\n",
      "44.69948781611028\n",
      "44.49529099958124\n",
      "44.29506024023895\n",
      "44.09867165436529\n",
      "43.906006665050654\n",
      "43.71695171447983\n",
      "43.53139799498773\n",
      "43.34924119746118\n",
      "43.17038127578606\n",
      "42.99472222614908\n",
      "42.82217188010425\n",
      "42.65264171040475\n",
      "42.48604664868327\n",
      "42.32230491413871\n",
      "42.161337852455304\n",
      "42.003069784241674\n",
      "41.84742786233437\n",
      "41.69434193736119\n",
      "41.543744431006715\n",
      "41.395570216465515\n",
      "41.24975650560711\n",
      "41.10624274241333\n",
      "40.96497050228073\n",
      "40.82588339681142\n",
      "40.68892698374292\n",
      "40.55404868169295\n",
      "40.421197689418875\n",
      "40.29032490931188\n",
      "40.1613828748668\n",
      "40.03432568188596\n",
      "39.90910892319227\n",
      "39.78568962664227\n",
      "39.66402619624422\n",
      "39.54407835619907\n",
      "39.42580709769487\n",
      "39.30917462829582\n",
      "39.19414432377815\n",
      "39.080680682274235\n",
      "38.96874928059553\n",
      "38.85831673261317\n",
      "38.74935064958259\n",
      "38.64181960230605\n",
      "38.535693085033216\n",
      "38.43094148100633\n",
      "38.327536029562204\n",
      "38.225448794708676\n",
      "38.124652635098\n",
      "38.02512117532457\n",
      "37.92682877847828\n",
      "37.82975051988946\n",
      "37.733862162004414\n",
      "37.63914013033482\n",
      "37.54556149042695\n",
      "37.453103925799994\n",
      "37.361745716805984\n",
      "37.27146572036575\n",
      "37.182243350538656\n",
      "37.09405855988574\n",
      "37.006891821588255\n",
      "36.92072411228578\n",
      "36.835536895599894\n",
      "36.75131210631113\n",
      "36.66803213515924\n",
      "36.585679814237345\n",
      "36.50423840295342\n",
      "36.423691574532654\n",
      "36.34402340303668\n",
      "36.265218350876154\n",
      "36.18726125679485\n",
      "36.11013732430429\n",
      "36.03383211054911\n",
      "35.95833151558436\n",
      "35.88362177204675\n",
      "35.80968943520297\n",
      "35.736521373358904\n",
      "35.664104758614265\n",
      "35.5924270579482\n",
      "35.521476024621826\n",
      "35.45123968988457\n",
      "35.38170635497161\n",
      "35.31286458338056\n",
      "35.244703193415745\n",
      "35.1772112509894\n",
      "35.11037806266931\n",
      "35.044193168962906\n",
      "34.97864633782848\n",
      "34.913727558404496\n",
      "34.84942703494831\n",
      "34.785735180976175\n",
      "34.7226426135966\n",
      "34.660140148029654\n",
      "34.598218792304976\n",
      "34.536869742131685\n",
      "34.47608437593369\n",
      "34.415854250043985\n",
      "34.356171094052186\n",
      "34.297026806299314\n",
      "34.23841344951454\n",
      "34.18032324658857\n",
      "34.122748576478656\n",
      "34.06568197024036\n",
      "34.009116107181605\n",
      "33.953043811134414\n",
      "33.89745804684024\n",
      "33.842351916444755\n",
      "33.787718656098235\n",
      "33.73355163265781\n",
      "33.679844340487904\n",
      "33.626590398355674\n",
      "33.573783546417744\n",
      "33.52141764329552\n",
      "33.46948666323566\n",
      "33.41798469335304\n",
      "33.36690593095328\n",
      "33.316244680932094\n",
      "33.265995353249046\n",
      "33.21615246047308\n",
      "33.16671061539732\n",
      "33.11766452872125\n",
      "33.06900900679747\n",
      "33.02073894944148\n",
      "32.97284934780194\n",
      "32.925335282289836\n",
      "32.87819192056434\n",
      "32.83141451557377\n",
      "32.784998403649695\n",
      "32.73893900265262\n",
      "32.69323181016756\n",
      "32.64787240174792\n",
      "32.602856429206255\n",
      "32.55817961895023\n",
      "32.5138377703626\n",
      "32.469826754223796\n",
      "32.42614251117563\n",
      "32.38278105022509\n",
      "32.33973844728692\n",
      "32.29701084376366\n",
      "32.25459444516227\n",
      "32.212485519746025\n",
      "32.17068039722073\n",
      "32.129175467454175\n",
      "32.0879671792279\n",
      "32.04705203902031\n",
      "32.00642660982006\n",
      "31.9660875099691\n",
      "31.92603141203433\n",
      "31.886255041706985\n",
      "31.84675517672913\n",
      "31.80752864584635\n",
      "31.768572327785932\n",
      "31.72988315025977\n",
      "31.69145808899135\n",
      "31.653294166766116\n",
      "31.615388452504508\n",
      "31.577738060357106\n",
      "31.540340148821176\n",
      "31.503191919878205\n",
      "31.466290618151554\n",
      "31.429633530083947\n",
      "31.393217983134083\n",
      "31.357041344991963\n",
      "31.32110102281229\n",
      "31.285394462465604\n",
      "31.249919147806516\n",
      "31.21467259995872\n",
      "31.179652376616257\n",
      "31.14485607136059\n",
      "31.110281312993127\n",
      "31.075925764882737\n",
      "31.04178712432784\n",
      "31.007863121932807\n",
      "30.974151520998134\n",
      "30.940650116924132\n",
      "30.907356736627786\n",
      "30.874269237972374\n",
      "30.841385509209623\n",
      "30.808703468433954\n",
      "30.77622106304858\n",
      "30.74393626924321\n",
      "30.71184709148293\n",
      "30.67995156200806\n",
      "30.64824774034473\n",
      "30.61673371282587\n",
      "30.585407592122365\n",
      "30.554267516784073\n",
      "30.52331165079056\n",
      "30.492538183111265\n",
      "30.461945327274798\n",
      "nan\n",
      "nan\n",
      "nan\n",
      "nan\n",
      "nan\n",
      "nan\n",
      "nan\n",
      "nan\n",
      "nan\n",
      "nan\n",
      "nan\n",
      "nan\n",
      "nan\n",
      "nan\n",
      "nan\n",
      "nan\n",
      "nan\n",
      "nan\n",
      "nan\n",
      "nan\n",
      "nan\n",
      "nan\n",
      "nan\n",
      "nan\n",
      "nan\n",
      "nan\n",
      "nan\n",
      "nan\n",
      "nan\n",
      "nan"
     ]
    },
    {
     "name": "stderr",
     "output_type": "stream",
     "text": [
      "<ipython-input-11-64c5560b3811>:2: RuntimeWarning: divide by zero encountered in log\n",
      "  error=-(y_ref*np.log(y_pred)+(1-y_ref)*np.log(1-y_pred))\n",
      "<ipython-input-11-64c5560b3811>:2: RuntimeWarning: invalid value encountered in multiply\n",
      "  error=-(y_ref*np.log(y_pred)+(1-y_ref)*np.log(1-y_pred))\n"
     ]
    },
    {
     "name": "stdout",
     "output_type": "stream",
     "text": [
      "\n",
      "nan\n",
      "nan\n",
      "nan\n",
      "nan\n",
      "nan\n",
      "nan\n",
      "nan\n",
      "nan\n",
      "nan\n",
      "nan\n",
      "nan\n",
      "nan\n",
      "nan\n",
      "nan\n",
      "nan\n",
      "nan\n",
      "nan\n",
      "nan\n",
      "nan\n",
      "nan\n",
      "nan\n",
      "nan\n",
      "nan\n",
      "nan\n",
      "nan\n",
      "nan\n",
      "nan\n",
      "nan\n",
      "nan\n",
      "nan\n",
      "nan\n",
      "nan\n",
      "nan\n",
      "nan\n",
      "nan\n",
      "nan\n",
      "nan\n",
      "nan\n",
      "nan\n",
      "nan\n",
      "nan\n",
      "nan\n",
      "nan\n",
      "nan\n",
      "nan\n",
      "nan\n",
      "nan\n",
      "nan\n",
      "nan\n",
      "nan\n",
      "nan\n",
      "nan\n",
      "nan\n",
      "nan\n",
      "nan\n",
      "nan\n",
      "nan\n",
      "nan\n",
      "nan\n",
      "nan\n",
      "nan\n",
      "nan\n",
      "nan\n",
      "nan\n",
      "nan\n",
      "nan\n",
      "nan\n",
      "nan\n",
      "nan\n",
      "nan\n",
      "nan\n",
      "nan\n",
      "nan\n",
      "nan\n",
      "nan\n",
      "nan\n",
      "nan\n",
      "nan\n",
      "nan\n",
      "nan\n",
      "nan\n",
      "nan\n",
      "nan\n",
      "nan\n",
      "nan\n",
      "nan\n",
      "nan\n",
      "nan\n",
      "nan\n",
      "nan\n",
      "nan\n",
      "nan\n",
      "nan\n",
      "nan\n",
      "nan\n",
      "nan\n",
      "nan\n",
      "nan\n",
      "nan\n",
      "nan\n",
      "nan\n",
      "nan\n",
      "nan\n",
      "nan\n",
      "nan\n",
      "nan\n",
      "nan\n",
      "nan\n",
      "nan\n",
      "nan\n",
      "nan\n",
      "nan\n",
      "nan\n",
      "nan\n",
      "nan\n",
      "nan\n",
      "nan\n",
      "nan\n",
      "nan\n",
      "nan\n",
      "nan\n",
      "nan\n",
      "nan\n",
      "nan\n",
      "nan\n",
      "nan\n",
      "nan\n",
      "nan\n",
      "nan\n",
      "nan\n",
      "nan\n",
      "nan\n",
      "nan\n",
      "nan\n",
      "nan\n",
      "nan\n",
      "nan\n",
      "nan\n",
      "nan\n",
      "nan\n",
      "nan\n",
      "nan\n",
      "nan\n",
      "nan\n",
      "nan\n",
      "nan\n",
      "nan\n",
      "nan\n",
      "nan\n",
      "nan\n",
      "nan\n",
      "nan\n",
      "nan\n",
      "nan\n",
      "nan\n",
      "nan\n",
      "nan\n",
      "nan\n",
      "nan\n",
      "nan\n",
      "nan\n",
      "nan\n",
      "nan\n",
      "nan\n",
      "nan\n",
      "nan\n",
      "nan\n",
      "nan\n",
      "nan\n",
      "nan\n",
      "nan\n",
      "nan\n",
      "nan\n",
      "nan\n",
      "nan\n",
      "nan\n",
      "nan\n",
      "nan\n",
      "nan\n",
      "nan\n",
      "nan\n",
      "nan\n",
      "nan\n",
      "nan\n",
      "nan\n",
      "nan\n",
      "nan\n",
      "nan\n",
      "nan\n",
      "nan\n",
      "nan\n",
      "nan\n",
      "nan\n",
      "nan\n",
      "nan\n",
      "nan\n",
      "nan\n",
      "nan\n",
      "nan\n",
      "nan\n",
      "nan\n",
      "nan\n",
      "nan\n"
     ]
    },
    {
     "data": {
      "image/png": "[encoded data removed]",
      "text/plain": [
       "<Figure size 432x288 with 1 Axes>"
      ]
     },
     "metadata": {
      "needs_background": "light"
     },
     "output_type": "display_data"
    }
   ],
   "source": [
    "theta,b=Logistic(x_train,y_train)"
   ]
  },
  {
   "cell_type": "code",
   "execution_count": 28,
   "metadata": {},
   "outputs": [],
   "source": [
    "def predict(X,theta,b):\n",
    "    y_pred=foward(X,theta,b)\n",
    "    y_pred=y_pred.T\n",
    "    return y_pred.argmax(axis=1)"
   ]
  },
  {
   "cell_type": "code",
   "execution_count": 29,
   "metadata": {},
   "outputs": [],
   "source": [
    "pred=predict(x_train,theta,b)"
   ]
  },
  {
   "cell_type": "code",
   "execution_count": 30,
   "metadata": {},
   "outputs": [
    {
     "data": {
      "text/plain": [
       "<matplotlib.axes._subplots.AxesSubplot at 0xdef79dd760>"
      ]
     },
     "execution_count": 30,
     "metadata": {},
     "output_type": "execute_result"
    },
    {
     "data": {
      "image/png": "[encoded data removed]",
      "text/plain": [
       "<Figure size 432x288 with 1 Axes>"
      ]
     },
     "metadata": {
      "needs_background": "light"
     },
     "output_type": "display_data"
    }
   ],
   "source": [
    "sb.countplot(x=0, data=pd.DataFrame(pred))"
   ]
  },
  {
   "cell_type": "code",
   "execution_count": 31,
   "metadata": {},
   "outputs": [
    {
     "data": {
      "text/plain": [
       "<matplotlib.axes._subplots.AxesSubplot at 0xdef795fe50>"
      ]
     },
     "execution_count": 31,
     "metadata": {},
     "output_type": "execute_result"
    },
    {
     "data": {
      "image/png": "[encoded data removed]",
      "text/plain": [
       "<Figure size 432x288 with 1 Axes>"
      ]
     },
     "metadata": {
      "needs_background": "light"
     },
     "output_type": "display_data"
    }
   ],
   "source": [
    "sb.countplot(x=0, data=pd.DataFrame(y_train))"
   ]
  },
  {
   "cell_type": "code",
   "execution_count": 32,
   "metadata": {},
   "outputs": [
    {
     "data": {
      "text/plain": [
       "0.9874371859296482"
      ]
     },
     "execution_count": 32,
     "metadata": {},
     "output_type": "execute_result"
    }
   ],
   "source": [
    "from sklearn.metrics import accuracy_score, confusion_matrix\n",
    "accuracy_score(y_train, pred)"
   ]
  },
  {
   "cell_type": "code",
   "execution_count": 33,
   "metadata": {},
   "outputs": [
    {
     "data": {
      "text/plain": [
       "array([[142,   3],\n",
       "       [  2, 251]], dtype=int64)"
      ]
     },
     "execution_count": 33,
     "metadata": {},
     "output_type": "execute_result"
    }
   ],
   "source": [
    "confusion_matrix(y_train,pred)"
   ]
  },
  {
   "cell_type": "code",
   "execution_count": 34,
   "metadata": {},
   "outputs": [],
   "source": [
    "test=predict(x_test,theta,b)"
   ]
  },
  {
   "cell_type": "code",
   "execution_count": 36,
   "metadata": {},
   "outputs": [
    {
     "data": {
      "text/plain": [
       "0.9649122807017544"
      ]
     },
     "execution_count": 36,
     "metadata": {},
     "output_type": "execute_result"
    }
   ],
   "source": [
    "confusion_matrix(y_test,test)\n",
    "accuracy_score(y_test, test)"
   ]
  },
  {
   "cell_type": "code",
   "execution_count": null,
   "metadata": {},
   "outputs": [],
   "source": []
  }
 ],
 "metadata": {
  "kernelspec": {
   "display_name": "Python 3",
   "language": "python",
   "name": "python3"
  }
 },
 "nbformat": 4,
 "nbformat_minor": 4
}
